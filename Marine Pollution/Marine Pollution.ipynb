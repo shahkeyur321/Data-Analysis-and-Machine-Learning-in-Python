{
 "cells": [
  {
   "cell_type": "markdown",
   "metadata": {},
   "source": [
    "# Loading Libraries and Dataset. Pre visualization study and data transformations"
   ]
  },
  {
   "cell_type": "code",
   "execution_count": 4,
   "metadata": {},
   "outputs": [
    {
     "name": "stderr",
     "output_type": "stream",
     "text": [
      "C:\\Users\\User\\Anaconda3\\lib\\site-packages\\distributed\\config.py:20: YAMLLoadWarning: calling yaml.load() without Loader=... is deprecated, as the default Loader is unsafe. Please read https://msg.pyyaml.org/load for full details.\n",
      "  defaults = yaml.load(f)\n"
     ]
    }
   ],
   "source": [
    "import pandas as pd\n",
    "import numpy as np\n",
    "import datetime as dt\n",
    "from sklearn.ensemble import RandomForestClassifier\n",
    "from sklearn.ensemble import RandomForestRegressor\n",
    "import seaborn as sns\n",
    "from seaborn import categorical\n",
    "import matplotlib.pyplot as plt\n",
    "#import folium\n",
    "#from geopy import geocoders\n",
    "#from geopy.geocoders import Nominatim\n",
    "from sklearn.model_selection import train_test_split\n",
    "import sklearn\n",
    "from sklearn.linear_model import LogisticRegression\n",
    "from sklearn.linear_model import LinearRegression\n",
    "from sklearn.ensemble import GradientBoostingClassifier\n",
    "from sklearn.tree import DecisionTreeClassifier\n",
    "from sklearn.ensemble import GradientBoostingRegressor\n",
    "from sklearn.tree import DecisionTreeRegressor\n",
    "import xgboost as xgb"
   ]
  },
  {
   "cell_type": "code",
   "execution_count": 5,
   "metadata": {},
   "outputs": [],
   "source": [
    "import random\n",
    "random.seed( 3 )"
   ]
  },
  {
   "cell_type": "code",
   "execution_count": 6,
   "metadata": {},
   "outputs": [],
   "source": [
    "marine_data = pd.read_excel('Marine_Pollution.xlsx')\n",
    "#marine_data = marine_data.dropna(subset = ['Pollutant'])"
   ]
  },
  {
   "cell_type": "code",
   "execution_count": 9,
   "metadata": {},
   "outputs": [
    {
     "data": {
      "text/html": [
       "<div>\n",
       "<style scoped>\n",
       "    .dataframe tbody tr th:only-of-type {\n",
       "        vertical-align: middle;\n",
       "    }\n",
       "\n",
       "    .dataframe tbody tr th {\n",
       "        vertical-align: top;\n",
       "    }\n",
       "\n",
       "    .dataframe thead th {\n",
       "        text-align: right;\n",
       "    }\n",
       "</style>\n",
       "<table border=\"1\" class=\"dataframe\">\n",
       "  <thead>\n",
       "    <tr style=\"text-align: right;\">\n",
       "      <th></th>\n",
       "      <th>Date</th>\n",
       "      <th>Region</th>\n",
       "      <th>Source</th>\n",
       "      <th>Ship Type</th>\n",
       "      <th>Area</th>\n",
       "      <th>Location</th>\n",
       "      <th>Pollutant</th>\n",
       "      <th>Estimated Litres</th>\n",
       "    </tr>\n",
       "  </thead>\n",
       "  <tbody>\n",
       "    <tr>\n",
       "      <th>0</th>\n",
       "      <td>2008-03-19</td>\n",
       "      <td>Cairns</td>\n",
       "      <td>Ship</td>\n",
       "      <td>Naval</td>\n",
       "      <td>Port</td>\n",
       "      <td>HMAS Cairns, Cairns</td>\n",
       "      <td>Other</td>\n",
       "      <td>2.5</td>\n",
       "    </tr>\n",
       "    <tr>\n",
       "      <th>1</th>\n",
       "      <td>2012-10-30</td>\n",
       "      <td>Townsville</td>\n",
       "      <td>Ship</td>\n",
       "      <td>Commercial</td>\n",
       "      <td>Port limits</td>\n",
       "      <td>Berth 10 Townsville Harbour</td>\n",
       "      <td>NaN</td>\n",
       "      <td>1.0</td>\n",
       "    </tr>\n",
       "    <tr>\n",
       "      <th>2</th>\n",
       "      <td>2013-03-14</td>\n",
       "      <td>Cairns</td>\n",
       "      <td>Ship</td>\n",
       "      <td>Fishing</td>\n",
       "      <td>Port limits</td>\n",
       "      <td>Trinity Inlet, Cairns</td>\n",
       "      <td>Hydraulic Oil</td>\n",
       "      <td>3.0</td>\n",
       "    </tr>\n",
       "    <tr>\n",
       "      <th>3</th>\n",
       "      <td>2013-04-11</td>\n",
       "      <td>Cairns</td>\n",
       "      <td>Ship</td>\n",
       "      <td>Trading Ship</td>\n",
       "      <td>Port limits</td>\n",
       "      <td>Trinity Inlet, Cairns</td>\n",
       "      <td>Hydraulic Oil</td>\n",
       "      <td>0.0</td>\n",
       "    </tr>\n",
       "    <tr>\n",
       "      <th>4</th>\n",
       "      <td>2003-10-07</td>\n",
       "      <td>Brisbane</td>\n",
       "      <td>Ship</td>\n",
       "      <td>Recreation</td>\n",
       "      <td>Port</td>\n",
       "      <td>Newport Waterways, Scarborough</td>\n",
       "      <td>Sheen</td>\n",
       "      <td>2.0</td>\n",
       "    </tr>\n",
       "  </tbody>\n",
       "</table>\n",
       "</div>"
      ],
      "text/plain": [
       "        Date      Region Source     Ship Type         Area  \\\n",
       "0 2008-03-19      Cairns   Ship         Naval         Port   \n",
       "1 2012-10-30  Townsville   Ship    Commercial  Port limits   \n",
       "2 2013-03-14      Cairns   Ship       Fishing  Port limits   \n",
       "3 2013-04-11      Cairns   Ship  Trading Ship  Port limits   \n",
       "4 2003-10-07    Brisbane   Ship    Recreation         Port   \n",
       "\n",
       "                         Location      Pollutant  Estimated Litres  \n",
       "0             HMAS Cairns, Cairns          Other               2.5  \n",
       "1     Berth 10 Townsville Harbour            NaN               1.0  \n",
       "2           Trinity Inlet, Cairns  Hydraulic Oil               3.0  \n",
       "3           Trinity Inlet, Cairns  Hydraulic Oil               0.0  \n",
       "4  Newport Waterways, Scarborough          Sheen               2.0  "
      ]
     },
     "execution_count": 9,
     "metadata": {},
     "output_type": "execute_result"
    }
   ],
   "source": [
    "marine_data.head()"
   ]
  },
  {
   "cell_type": "code",
   "execution_count": 10,
   "metadata": {},
   "outputs": [
    {
     "data": {
      "text/plain": [
       "1012"
      ]
     },
     "execution_count": 10,
     "metadata": {},
     "output_type": "execute_result"
    }
   ],
   "source": [
    "len(marine_data)"
   ]
  },
  {
   "cell_type": "code",
   "execution_count": 11,
   "metadata": {},
   "outputs": [],
   "source": [
    "#Steps\n",
    "#1. Convert date to features\n",
    "#2. Imputing missing/NA values\n",
    "#3. Visualization\n",
    "#4. Implementation of algorithms - Testing various algos for accuracy"
   ]
  },
  {
   "cell_type": "markdown",
   "metadata": {},
   "source": [
    "Feature Engineering on Date Column to study its impact on Litres of Pollution"
   ]
  },
  {
   "cell_type": "code",
   "execution_count": 12,
   "metadata": {},
   "outputs": [],
   "source": [
    "marine_data['year'] = marine_data['Date'].dt.year\n",
    "marine_data['month'] = marine_data['Date'].dt.month\n",
    "marine_data['day'] =marine_data['Date'].dt.day\n",
    "marine_data['quarter'] = marine_data['Date'].dt.quarter\n",
    "marine_data['weekday'] = marine_data['Date'].dt.weekday\n",
    "\n",
    "marine_data = marine_data.drop('Date', axis = 1)"
   ]
  },
  {
   "cell_type": "code",
   "execution_count": 13,
   "metadata": {},
   "outputs": [
    {
     "data": {
      "text/plain": [
       "Region               object\n",
       "Source               object\n",
       "Ship Type            object\n",
       "Area                 object\n",
       "Location             object\n",
       "Pollutant            object\n",
       "Estimated Litres    float64\n",
       "year                  int64\n",
       "month                 int64\n",
       "day                   int64\n",
       "quarter               int64\n",
       "weekday               int64\n",
       "dtype: object"
      ]
     },
     "execution_count": 13,
     "metadata": {},
     "output_type": "execute_result"
    }
   ],
   "source": [
    "marine_data.dtypes"
   ]
  },
  {
   "cell_type": "code",
   "execution_count": 14,
   "metadata": {},
   "outputs": [
    {
     "data": {
      "text/html": [
       "<div>\n",
       "<style scoped>\n",
       "    .dataframe tbody tr th:only-of-type {\n",
       "        vertical-align: middle;\n",
       "    }\n",
       "\n",
       "    .dataframe tbody tr th {\n",
       "        vertical-align: top;\n",
       "    }\n",
       "\n",
       "    .dataframe thead th {\n",
       "        text-align: right;\n",
       "    }\n",
       "</style>\n",
       "<table border=\"1\" class=\"dataframe\">\n",
       "  <thead>\n",
       "    <tr style=\"text-align: right;\">\n",
       "      <th></th>\n",
       "      <th>Region</th>\n",
       "      <th>Source</th>\n",
       "      <th>Ship Type</th>\n",
       "      <th>Area</th>\n",
       "      <th>Location</th>\n",
       "      <th>Pollutant</th>\n",
       "      <th>Estimated Litres</th>\n",
       "      <th>year</th>\n",
       "      <th>month</th>\n",
       "      <th>day</th>\n",
       "      <th>quarter</th>\n",
       "      <th>weekday</th>\n",
       "    </tr>\n",
       "  </thead>\n",
       "  <tbody>\n",
       "    <tr>\n",
       "      <th>0</th>\n",
       "      <td>Cairns</td>\n",
       "      <td>Ship</td>\n",
       "      <td>Naval</td>\n",
       "      <td>Port</td>\n",
       "      <td>HMAS Cairns, Cairns</td>\n",
       "      <td>Other</td>\n",
       "      <td>2.5</td>\n",
       "      <td>2008</td>\n",
       "      <td>3</td>\n",
       "      <td>19</td>\n",
       "      <td>1</td>\n",
       "      <td>2</td>\n",
       "    </tr>\n",
       "    <tr>\n",
       "      <th>1</th>\n",
       "      <td>Townsville</td>\n",
       "      <td>Ship</td>\n",
       "      <td>Commercial</td>\n",
       "      <td>Port limits</td>\n",
       "      <td>Berth 10 Townsville Harbour</td>\n",
       "      <td>NaN</td>\n",
       "      <td>1.0</td>\n",
       "      <td>2012</td>\n",
       "      <td>10</td>\n",
       "      <td>30</td>\n",
       "      <td>4</td>\n",
       "      <td>1</td>\n",
       "    </tr>\n",
       "    <tr>\n",
       "      <th>2</th>\n",
       "      <td>Cairns</td>\n",
       "      <td>Ship</td>\n",
       "      <td>Fishing</td>\n",
       "      <td>Port limits</td>\n",
       "      <td>Trinity Inlet, Cairns</td>\n",
       "      <td>Hydraulic Oil</td>\n",
       "      <td>3.0</td>\n",
       "      <td>2013</td>\n",
       "      <td>3</td>\n",
       "      <td>14</td>\n",
       "      <td>1</td>\n",
       "      <td>3</td>\n",
       "    </tr>\n",
       "    <tr>\n",
       "      <th>3</th>\n",
       "      <td>Cairns</td>\n",
       "      <td>Ship</td>\n",
       "      <td>Trading Ship</td>\n",
       "      <td>Port limits</td>\n",
       "      <td>Trinity Inlet, Cairns</td>\n",
       "      <td>Hydraulic Oil</td>\n",
       "      <td>0.0</td>\n",
       "      <td>2013</td>\n",
       "      <td>4</td>\n",
       "      <td>11</td>\n",
       "      <td>2</td>\n",
       "      <td>3</td>\n",
       "    </tr>\n",
       "    <tr>\n",
       "      <th>4</th>\n",
       "      <td>Brisbane</td>\n",
       "      <td>Ship</td>\n",
       "      <td>Recreation</td>\n",
       "      <td>Port</td>\n",
       "      <td>Newport Waterways, Scarborough</td>\n",
       "      <td>Sheen</td>\n",
       "      <td>2.0</td>\n",
       "      <td>2003</td>\n",
       "      <td>10</td>\n",
       "      <td>7</td>\n",
       "      <td>4</td>\n",
       "      <td>1</td>\n",
       "    </tr>\n",
       "  </tbody>\n",
       "</table>\n",
       "</div>"
      ],
      "text/plain": [
       "       Region Source     Ship Type         Area  \\\n",
       "0      Cairns   Ship         Naval         Port   \n",
       "1  Townsville   Ship    Commercial  Port limits   \n",
       "2      Cairns   Ship       Fishing  Port limits   \n",
       "3      Cairns   Ship  Trading Ship  Port limits   \n",
       "4    Brisbane   Ship    Recreation         Port   \n",
       "\n",
       "                         Location      Pollutant  Estimated Litres  year  \\\n",
       "0             HMAS Cairns, Cairns          Other               2.5  2008   \n",
       "1     Berth 10 Townsville Harbour            NaN               1.0  2012   \n",
       "2           Trinity Inlet, Cairns  Hydraulic Oil               3.0  2013   \n",
       "3           Trinity Inlet, Cairns  Hydraulic Oil               0.0  2013   \n",
       "4  Newport Waterways, Scarborough          Sheen               2.0  2003   \n",
       "\n",
       "   month  day  quarter  weekday  \n",
       "0      3   19        1        2  \n",
       "1     10   30        4        1  \n",
       "2      3   14        1        3  \n",
       "3      4   11        2        3  \n",
       "4     10    7        4        1  "
      ]
     },
     "execution_count": 14,
     "metadata": {},
     "output_type": "execute_result"
    }
   ],
   "source": [
    "marine_data['Estimated Litres'] = pd.to_numeric(marine_data['Estimated Litres'], errors='coerce')\n",
    "marine_data.head()"
   ]
  },
  {
   "cell_type": "code",
   "execution_count": 15,
   "metadata": {},
   "outputs": [
    {
     "data": {
      "text/plain": [
       "['Ship Type', 'Pollutant']"
      ]
     },
     "execution_count": 15,
     "metadata": {},
     "output_type": "execute_result"
    }
   ],
   "source": [
    "marine_data.columns[marine_data.isna().any()].tolist()"
   ]
  },
  {
   "cell_type": "markdown",
   "metadata": {},
   "source": [
    "# Creating models for imputation of missing values for above variables - namely Ship_type and Pollutant\n"
   ]
  },
  {
   "cell_type": "code",
   "execution_count": 16,
   "metadata": {},
   "outputs": [
    {
     "data": {
      "text/plain": [
       "Region               object\n",
       "Source               object\n",
       "Ship Type            object\n",
       "Area                 object\n",
       "Location             object\n",
       "Pollutant            object\n",
       "Estimated Litres    float64\n",
       "year                  int64\n",
       "month                 int64\n",
       "day                   int64\n",
       "quarter               int64\n",
       "weekday               int64\n",
       "dtype: object"
      ]
     },
     "execution_count": 16,
     "metadata": {},
     "output_type": "execute_result"
    }
   ],
   "source": [
    "marine_data.dtypes"
   ]
  },
  {
   "cell_type": "code",
   "execution_count": 17,
   "metadata": {},
   "outputs": [
    {
     "name": "stderr",
     "output_type": "stream",
     "text": [
      "C:\\Users\\User\\Anaconda3\\lib\\site-packages\\sklearn\\ensemble\\forest.py:246: FutureWarning: The default value of n_estimators will change from 10 in version 0.20 to 100 in 0.22.\n",
      "  \"10 in version 0.20 to 100 in 0.22.\", FutureWarning)\n",
      "C:\\Users\\User\\Anaconda3\\lib\\site-packages\\ipykernel_launcher.py:20: SettingWithCopyWarning: \n",
      "A value is trying to be set on a copy of a slice from a DataFrame.\n",
      "Try using .loc[row_indexer,col_indexer] = value instead\n",
      "\n",
      "See the caveats in the documentation: http://pandas.pydata.org/pandas-docs/stable/indexing.html#indexing-view-versus-copy\n"
     ]
    }
   ],
   "source": [
    "test_data = marine_data[marine_data['Ship Type'].isnull()]\n",
    "\n",
    "#Changing train data\n",
    "train = marine_data.dropna(subset = ['Ship Type'])\n",
    "ship_type = train['Ship Type']\n",
    "new_train = train.drop(['Pollutant', 'Ship Type','Location', 'Estimated Litres', 'Region','Area'], axis = 1)\n",
    "new_train = pd.get_dummies(new_train)\n",
    "new_train_list = list(new_train.columns)\n",
    "new_train = np.array(new_train)\n",
    "\n",
    "#Changing test data\n",
    "new_test_data = test_data.drop(['Pollutant', 'Ship Type','Location', 'Estimated Litres', 'Region','Area'], axis = 1)\n",
    "new_test_data = pd.get_dummies(new_test_data)\n",
    "new_test_data = np.array(new_test_data)\n",
    "\n",
    "#Making models to predict missing values\n",
    "Random_forest = RandomForestClassifier().fit(new_train, ship_type)\n",
    "pred_Random_forest = Random_forest.predict(new_test_data)\n",
    "\n",
    "test_data['Ship Type'] = pred_Random_forest\n",
    "marine_data = test_data.append(train)"
   ]
  },
  {
   "cell_type": "code",
   "execution_count": 18,
   "metadata": {},
   "outputs": [
    {
     "name": "stderr",
     "output_type": "stream",
     "text": [
      "C:\\Users\\User\\Anaconda3\\lib\\site-packages\\sklearn\\ensemble\\forest.py:246: FutureWarning: The default value of n_estimators will change from 10 in version 0.20 to 100 in 0.22.\n",
      "  \"10 in version 0.20 to 100 in 0.22.\", FutureWarning)\n",
      "C:\\Users\\User\\Anaconda3\\lib\\site-packages\\ipykernel_launcher.py:20: SettingWithCopyWarning: \n",
      "A value is trying to be set on a copy of a slice from a DataFrame.\n",
      "Try using .loc[row_indexer,col_indexer] = value instead\n",
      "\n",
      "See the caveats in the documentation: http://pandas.pydata.org/pandas-docs/stable/indexing.html#indexing-view-versus-copy\n"
     ]
    }
   ],
   "source": [
    "test_data = marine_data[marine_data['Pollutant'].isnull()]\n",
    "\n",
    "#Changing train data\n",
    "train = marine_data.dropna(subset = ['Pollutant'])\n",
    "ship_type = train['Pollutant']\n",
    "new_train = train.drop(['Pollutant', 'Ship Type','Location', 'Estimated Litres', 'Region','Area'], axis = 1)\n",
    "new_train = pd.get_dummies(new_train)\n",
    "new_train_list = list(new_train.columns)\n",
    "new_train = np.array(new_train)\n",
    "\n",
    "#Changing test data\n",
    "new_test_data = test_data.drop(['Pollutant', 'Ship Type','Location', 'Estimated Litres', 'Region','Area'], axis = 1)\n",
    "new_test_data = pd.get_dummies(new_test_data)\n",
    "new_test_data = np.array(new_test_data)\n",
    "\n",
    "#Making models to predict missing values\n",
    "Random_forest = RandomForestClassifier().fit(new_train, ship_type)\n",
    "pred_Random_forest = Random_forest.predict(new_test_data)\n",
    "\n",
    "test_data['Pollutant'] = pred_Random_forest\n",
    "marine_data = test_data.append(train)"
   ]
  },
  {
   "cell_type": "code",
   "execution_count": 19,
   "metadata": {},
   "outputs": [],
   "source": [
    "marine_data = marine_data.reset_index(drop = True)"
   ]
  },
  {
   "cell_type": "code",
   "execution_count": 20,
   "metadata": {},
   "outputs": [
    {
     "data": {
      "text/html": [
       "<div>\n",
       "<style scoped>\n",
       "    .dataframe tbody tr th:only-of-type {\n",
       "        vertical-align: middle;\n",
       "    }\n",
       "\n",
       "    .dataframe tbody tr th {\n",
       "        vertical-align: top;\n",
       "    }\n",
       "\n",
       "    .dataframe thead th {\n",
       "        text-align: right;\n",
       "    }\n",
       "</style>\n",
       "<table border=\"1\" class=\"dataframe\">\n",
       "  <thead>\n",
       "    <tr style=\"text-align: right;\">\n",
       "      <th></th>\n",
       "      <th>Region</th>\n",
       "      <th>Source</th>\n",
       "      <th>Ship Type</th>\n",
       "      <th>Area</th>\n",
       "      <th>Location</th>\n",
       "      <th>Pollutant</th>\n",
       "      <th>Estimated Litres</th>\n",
       "      <th>year</th>\n",
       "      <th>month</th>\n",
       "      <th>day</th>\n",
       "      <th>quarter</th>\n",
       "      <th>weekday</th>\n",
       "    </tr>\n",
       "  </thead>\n",
       "  <tbody>\n",
       "    <tr>\n",
       "      <th>0</th>\n",
       "      <td>Cairns</td>\n",
       "      <td>Ship</td>\n",
       "      <td>Trading Ship</td>\n",
       "      <td>Port limits</td>\n",
       "      <td>Trinity Inlet, Cairns</td>\n",
       "      <td>Hydraulic Oil</td>\n",
       "      <td>0.0</td>\n",
       "      <td>2013</td>\n",
       "      <td>4</td>\n",
       "      <td>11</td>\n",
       "      <td>2</td>\n",
       "      <td>3</td>\n",
       "    </tr>\n",
       "    <tr>\n",
       "      <th>1</th>\n",
       "      <td>Cairns</td>\n",
       "      <td>Ship</td>\n",
       "      <td>Trading</td>\n",
       "      <td>Port</td>\n",
       "      <td>Lorim Point, Weipa</td>\n",
       "      <td>Hydraulic Oil</td>\n",
       "      <td>0.0</td>\n",
       "      <td>2003</td>\n",
       "      <td>10</td>\n",
       "      <td>30</td>\n",
       "      <td>4</td>\n",
       "      <td>3</td>\n",
       "    </tr>\n",
       "    <tr>\n",
       "      <th>2</th>\n",
       "      <td>Mackay</td>\n",
       "      <td>Ship</td>\n",
       "      <td>Recreation</td>\n",
       "      <td>Coastal</td>\n",
       "      <td>Shute Harbour</td>\n",
       "      <td>Sheen</td>\n",
       "      <td>0.0</td>\n",
       "      <td>2003</td>\n",
       "      <td>10</td>\n",
       "      <td>29</td>\n",
       "      <td>4</td>\n",
       "      <td>2</td>\n",
       "    </tr>\n",
       "    <tr>\n",
       "      <th>3</th>\n",
       "      <td>Brisbane</td>\n",
       "      <td>Ship</td>\n",
       "      <td>Trading</td>\n",
       "      <td>Port</td>\n",
       "      <td>Fishermans Islands Brisbane River</td>\n",
       "      <td>Hydraulic Oil</td>\n",
       "      <td>0.0</td>\n",
       "      <td>2003</td>\n",
       "      <td>12</td>\n",
       "      <td>7</td>\n",
       "      <td>4</td>\n",
       "      <td>6</td>\n",
       "    </tr>\n",
       "    <tr>\n",
       "      <th>4</th>\n",
       "      <td>Cairns</td>\n",
       "      <td>Ship</td>\n",
       "      <td>Commercial</td>\n",
       "      <td>Port</td>\n",
       "      <td>Thursday Island Harbour</td>\n",
       "      <td>Sheen</td>\n",
       "      <td>0.0</td>\n",
       "      <td>2006</td>\n",
       "      <td>4</td>\n",
       "      <td>16</td>\n",
       "      <td>2</td>\n",
       "      <td>6</td>\n",
       "    </tr>\n",
       "  </tbody>\n",
       "</table>\n",
       "</div>"
      ],
      "text/plain": [
       "     Region Source     Ship Type         Area  \\\n",
       "0    Cairns   Ship  Trading Ship  Port limits   \n",
       "1    Cairns   Ship       Trading         Port   \n",
       "2    Mackay   Ship    Recreation      Coastal   \n",
       "3  Brisbane   Ship       Trading         Port   \n",
       "4    Cairns   Ship    Commercial         Port   \n",
       "\n",
       "                            Location      Pollutant  Estimated Litres  year  \\\n",
       "0              Trinity Inlet, Cairns  Hydraulic Oil               0.0  2013   \n",
       "1                 Lorim Point, Weipa  Hydraulic Oil               0.0  2003   \n",
       "2                      Shute Harbour          Sheen               0.0  2003   \n",
       "3  Fishermans Islands Brisbane River  Hydraulic Oil               0.0  2003   \n",
       "4            Thursday Island Harbour          Sheen               0.0  2006   \n",
       "\n",
       "   month  day  quarter  weekday  \n",
       "0      4   11        2        3  \n",
       "1     10   30        4        3  \n",
       "2     10   29        4        2  \n",
       "3     12    7        4        6  \n",
       "4      4   16        2        6  "
      ]
     },
     "execution_count": 20,
     "metadata": {},
     "output_type": "execute_result"
    }
   ],
   "source": [
    "marine_data = marine_data.sort_values('Estimated Litres', ascending = True)\n",
    "marine_data = marine_data.reset_index(drop = True)\n",
    "marine_data.head()"
   ]
  },
  {
   "cell_type": "markdown",
   "metadata": {},
   "source": [
    "\n",
    "# Visualizing data and Exploratory Data Analysis for modelling purpose"
   ]
  },
  {
   "cell_type": "markdown",
   "metadata": {},
   "source": [
    "Identifying the relation between Pollutant and amount of pollution from them"
   ]
  },
  {
   "cell_type": "code",
   "execution_count": 21,
   "metadata": {},
   "outputs": [
    {
     "data": {
      "image/png": "[encoded data removed]",
      "text/plain": [
       "<Figure size 432x288 with 1 Axes>"
      ]
     },
     "metadata": {
      "needs_background": "light"
     },
     "output_type": "display_data"
    }
   ],
   "source": [
    "# Use a color palette\n",
    "x = sns.boxplot( x=marine_data[\"Pollutant\"], y=marine_data[\"Estimated Litres\"], palette=\"Greens\")"
   ]
  },
  {
   "cell_type": "markdown",
   "metadata": {},
   "source": [
    "Mean of Pollution for each of Pollutants"
   ]
  },
  {
   "cell_type": "code",
   "execution_count": 22,
   "metadata": {},
   "outputs": [
    {
     "data": {
      "text/plain": [
       "<matplotlib.axes._subplots.AxesSubplot at 0x26b9b1786d8>"
      ]
     },
     "execution_count": 22,
     "metadata": {},
     "output_type": "execute_result"
    },
    {
     "data": {
      "image/png": "[encoded data removed]",
      "text/plain": [
       "<Figure size 432x288 with 1 Axes>"
      ]
     },
     "metadata": {
      "needs_background": "light"
     },
     "output_type": "display_data"
    }
   ],
   "source": [
    "xyz = (marine_data.groupby(['Pollutant']).mean()['Estimated Litres'])\n",
    "xyz = pd.DataFrame(xyz)\n",
    "xyz['Pollutant'] = xyz.index\n",
    "sns.barplot(x='Pollutant',y='Estimated Litres',data=xyz, palette=\"muted\")"
   ]
  },
  {
   "cell_type": "code",
   "execution_count": 23,
   "metadata": {},
   "outputs": [
    {
     "data": {
      "text/plain": [
       "<matplotlib.axes._subplots.AxesSubplot at 0x26b9b210ba8>"
      ]
     },
     "execution_count": 23,
     "metadata": {},
     "output_type": "execute_result"
    },
    {
     "data": {
      "image/png": "[encoded data removed]",
      "text/plain": [
       "<Figure size 432x288 with 1 Axes>"
      ]
     },
     "metadata": {
      "needs_background": "light"
     },
     "output_type": "display_data"
    }
   ],
   "source": [
    "xyz = (marine_data.groupby(['Pollutant']).count()['Ship Type'])\n",
    "xyz = pd.DataFrame(xyz)\n",
    "xyz['Pollutant'] = xyz.index\n",
    "xyz.columns = ['Count', 'Pollutant']\n",
    "sns.barplot(x='Pollutant',y='Count',data=xyz, palette=\"muted\")"
   ]
  },
  {
   "cell_type": "markdown",
   "metadata": {},
   "source": [
    "Visualizing Correlation between all numerical categories"
   ]
  },
  {
   "cell_type": "code",
   "execution_count": 24,
   "metadata": {},
   "outputs": [
    {
     "data": {
      "text/plain": [
       "<matplotlib.axes._subplots.AxesSubplot at 0x26b9b290cc0>"
      ]
     },
     "execution_count": 24,
     "metadata": {},
     "output_type": "execute_result"
    },
    {
     "data": {
      "image/png": "[encoded data removed]",
      "text/plain": [
       "<Figure size 720x576 with 2 Axes>"
      ]
     },
     "metadata": {
      "needs_background": "light"
     },
     "output_type": "display_data"
    }
   ],
   "source": [
    "f, ax = plt.subplots(figsize=(10, 8))\n",
    "corr = marine_data.corr()\n",
    "sns.heatmap(corr, mask=np.zeros_like(corr, dtype=np.bool), cmap=sns.diverging_palette(220, 10, as_cmap=True),\n",
    "            square=True, ax=ax)"
   ]
  },
  {
   "cell_type": "markdown",
   "metadata": {},
   "source": [
    "# Developing machine learning models for this dataset\n",
    "\n"
   ]
  },
  {
   "cell_type": "code",
   "execution_count": 28,
   "metadata": {},
   "outputs": [
    {
     "data": {
      "text/html": [
       "<div>\n",
       "<style scoped>\n",
       "    .dataframe tbody tr th:only-of-type {\n",
       "        vertical-align: middle;\n",
       "    }\n",
       "\n",
       "    .dataframe tbody tr th {\n",
       "        vertical-align: top;\n",
       "    }\n",
       "\n",
       "    .dataframe thead th {\n",
       "        text-align: right;\n",
       "    }\n",
       "</style>\n",
       "<table border=\"1\" class=\"dataframe\">\n",
       "  <thead>\n",
       "    <tr style=\"text-align: right;\">\n",
       "      <th></th>\n",
       "      <th>Region</th>\n",
       "      <th>Source</th>\n",
       "      <th>Ship Type</th>\n",
       "      <th>Area</th>\n",
       "      <th>Location</th>\n",
       "      <th>Pollutant</th>\n",
       "      <th>Estimated Litres</th>\n",
       "      <th>year</th>\n",
       "      <th>month</th>\n",
       "      <th>day</th>\n",
       "      <th>quarter</th>\n",
       "      <th>weekday</th>\n",
       "    </tr>\n",
       "  </thead>\n",
       "  <tbody>\n",
       "    <tr>\n",
       "      <th>0</th>\n",
       "      <td>Cairns</td>\n",
       "      <td>Ship</td>\n",
       "      <td>Trading Ship</td>\n",
       "      <td>Port limits</td>\n",
       "      <td>Trinity Inlet, Cairns</td>\n",
       "      <td>Hydraulic Oil</td>\n",
       "      <td>0.0</td>\n",
       "      <td>2013</td>\n",
       "      <td>4</td>\n",
       "      <td>11</td>\n",
       "      <td>2</td>\n",
       "      <td>3</td>\n",
       "    </tr>\n",
       "    <tr>\n",
       "      <th>1</th>\n",
       "      <td>Cairns</td>\n",
       "      <td>Ship</td>\n",
       "      <td>Trading</td>\n",
       "      <td>Port</td>\n",
       "      <td>Lorim Point, Weipa</td>\n",
       "      <td>Hydraulic Oil</td>\n",
       "      <td>0.0</td>\n",
       "      <td>2003</td>\n",
       "      <td>10</td>\n",
       "      <td>30</td>\n",
       "      <td>4</td>\n",
       "      <td>3</td>\n",
       "    </tr>\n",
       "    <tr>\n",
       "      <th>2</th>\n",
       "      <td>Mackay</td>\n",
       "      <td>Ship</td>\n",
       "      <td>Recreation</td>\n",
       "      <td>Coastal</td>\n",
       "      <td>Shute Harbour</td>\n",
       "      <td>Sheen</td>\n",
       "      <td>0.0</td>\n",
       "      <td>2003</td>\n",
       "      <td>10</td>\n",
       "      <td>29</td>\n",
       "      <td>4</td>\n",
       "      <td>2</td>\n",
       "    </tr>\n",
       "    <tr>\n",
       "      <th>3</th>\n",
       "      <td>Brisbane</td>\n",
       "      <td>Ship</td>\n",
       "      <td>Trading</td>\n",
       "      <td>Port</td>\n",
       "      <td>Fishermans Islands Brisbane River</td>\n",
       "      <td>Hydraulic Oil</td>\n",
       "      <td>0.0</td>\n",
       "      <td>2003</td>\n",
       "      <td>12</td>\n",
       "      <td>7</td>\n",
       "      <td>4</td>\n",
       "      <td>6</td>\n",
       "    </tr>\n",
       "    <tr>\n",
       "      <th>4</th>\n",
       "      <td>Cairns</td>\n",
       "      <td>Ship</td>\n",
       "      <td>Commercial</td>\n",
       "      <td>Port</td>\n",
       "      <td>Thursday Island Harbour</td>\n",
       "      <td>Sheen</td>\n",
       "      <td>0.0</td>\n",
       "      <td>2006</td>\n",
       "      <td>4</td>\n",
       "      <td>16</td>\n",
       "      <td>2</td>\n",
       "      <td>6</td>\n",
       "    </tr>\n",
       "  </tbody>\n",
       "</table>\n",
       "</div>"
      ],
      "text/plain": [
       "     Region Source     Ship Type         Area  \\\n",
       "0    Cairns   Ship  Trading Ship  Port limits   \n",
       "1    Cairns   Ship       Trading         Port   \n",
       "2    Mackay   Ship    Recreation      Coastal   \n",
       "3  Brisbane   Ship       Trading         Port   \n",
       "4    Cairns   Ship    Commercial         Port   \n",
       "\n",
       "                            Location      Pollutant  Estimated Litres  year  \\\n",
       "0              Trinity Inlet, Cairns  Hydraulic Oil               0.0  2013   \n",
       "1                 Lorim Point, Weipa  Hydraulic Oil               0.0  2003   \n",
       "2                      Shute Harbour          Sheen               0.0  2003   \n",
       "3  Fishermans Islands Brisbane River  Hydraulic Oil               0.0  2003   \n",
       "4            Thursday Island Harbour          Sheen               0.0  2006   \n",
       "\n",
       "   month  day  quarter  weekday  \n",
       "0      4   11        2        3  \n",
       "1     10   30        4        3  \n",
       "2     10   29        4        2  \n",
       "3     12    7        4        6  \n",
       "4      4   16        2        6  "
      ]
     },
     "execution_count": 28,
     "metadata": {},
     "output_type": "execute_result"
    }
   ],
   "source": [
    "marine_data.head()"
   ]
  },
  {
   "cell_type": "code",
   "execution_count": 35,
   "metadata": {},
   "outputs": [],
   "source": [
    "new_data = marine_data.drop('Location', axis = 1)\n",
    "#new_data = new_data.drop('Latitude', axis = 1)\n",
    "#new_data = new_data.drop('Longitude', axis = 1)\n",
    "new_data.head()\n",
    "\n",
    "# Labels are the values we want to predict. Extracting the wine quality in labels\n",
    "dependent = np.array(new_data.iloc[:,5])\n",
    "\n",
    "# Remove the labels from the features, axis 1 refers to the columns\n",
    "new_data= new_data.drop('Estimated Litres', axis = 1)\n",
    "\n",
    "#Doing one hot encoding to convert all independent categorical columns into numerical columns\n",
    "new_data = pd.get_dummies(new_data)\n",
    "\n",
    "# Saving feature names for later use\n",
    "new_data_list = list(new_data.columns)\n",
    "\n",
    "# Convert to numpy array\n",
    "new_data = np.array(new_data)\n",
    "\n",
    "# Split the data into training and testing sets\n",
    "train_data, test_data, train_labels, test_labels = train_test_split(new_data, dependent, \n",
    "                                                                            test_size = 0.10, random_state = 42)"
   ]
  },
  {
   "cell_type": "code",
   "execution_count": 36,
   "metadata": {},
   "outputs": [
    {
     "data": {
      "text/plain": [
       "0.6354103135078782"
      ]
     },
     "execution_count": 36,
     "metadata": {},
     "output_type": "execute_result"
    }
   ],
   "source": [
    "#Trying Decision Trees on this dataset\n",
    "decision_tree = DecisionTreeRegressor(random_state = 42).fit(train_data, train_labels)\n",
    "\n",
    "#making predictions\n",
    "pred_decision_tree = decision_tree.predict(test_data)\n",
    "\n",
    "#Calculating the accuracy of Logistic Regression model\n",
    "r2_score_decision_tree = sklearn.metrics.r2_score(test_labels, pred_decision_tree)\n",
    "r2_score_decision_tree"
   ]
  },
  {
   "cell_type": "code",
   "execution_count": 37,
   "metadata": {},
   "outputs": [
    {
     "data": {
      "text/plain": [
       "0.9230256235899651"
      ]
     },
     "execution_count": 37,
     "metadata": {},
     "output_type": "execute_result"
    }
   ],
   "source": [
    "#Trying RandomForest on this dataset\n",
    "Random_forest = RandomForestRegressor(n_estimators=6000, random_state = 42).fit(train_data, train_labels)\n",
    "\n",
    "#making predictions\n",
    "pred_Random_forest = Random_forest.predict(test_data)\n",
    "\n",
    "#Calculating the accuracy of Logistic Regression model\n",
    "r2_score_Random_forest = sklearn.metrics.r2_score(test_labels, pred_Random_forest)\n",
    "r2_score_Random_forest"
   ]
  },
  {
   "cell_type": "code",
   "execution_count": 38,
   "metadata": {},
   "outputs": [
    {
     "data": {
      "text/plain": [
       "0.8250711574653162"
      ]
     },
     "execution_count": 38,
     "metadata": {},
     "output_type": "execute_result"
    }
   ],
   "source": [
    "#Trying GBM on this dataset\n",
    "GBM = GradientBoostingRegressor(learning_rate=0.04, n_estimators=1300, random_state = 12).fit(train_data, train_labels)\n",
    "\n",
    "#making predictions\n",
    "pred_GBM = GBM.predict(test_data)\n",
    "\n",
    "#Calculating the accuracy of Logistic Regression model\n",
    "r2_score_GBM = sklearn.metrics.r2_score(test_labels, pred_GBM)\n",
    "r2_score_GBM"
   ]
  },
  {
   "cell_type": "code",
   "execution_count": 39,
   "metadata": {},
   "outputs": [
    {
     "data": {
      "text/plain": [
       "0.9179109322754165"
      ]
     },
     "execution_count": 39,
     "metadata": {},
     "output_type": "execute_result"
    }
   ],
   "source": [
    "#Trying XGB on this dataset\n",
    "XGB = xgb.XGBRegressor(learning_rate=0.05, reg_lambda=0.8, n_estimators=1100, random_state = 12).fit(train_data, train_labels)\n",
    "\n",
    "#making predictions\n",
    "pred_XGB = XGB.predict(test_data)\n",
    "\n",
    "#Calculating the accuracy of Logistic Regression model\n",
    "r2_score_XGB = sklearn.metrics.r2_score(test_labels, pred_XGB)\n",
    "r2_score_XGB"
   ]
  },
  {
   "cell_type": "code",
   "execution_count": null,
   "metadata": {},
   "outputs": [],
   "source": []
  }
 ],
 "metadata": {
  "kernelspec": {
   "display_name": "Python 3",
   "language": "python",
   "name": "python3"
  },
  "language_info": {
   "codemirror_mode": {
    "name": "ipython",
    "version": 3
   },
   "file_extension": ".py",
   "mimetype": "text/x-python",
   "name": "python",
   "nbconvert_exporter": "python",
   "pygments_lexer": "ipython3",
   "version": "3.7.3"
  }
 },
 "nbformat": 4,
 "nbformat_minor": 2
}
